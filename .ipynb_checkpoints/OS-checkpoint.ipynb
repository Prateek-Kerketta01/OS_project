{
 "cells": [
  {
   "cell_type": "code",
   "execution_count": 3,
   "id": "c22e9d3a",
   "metadata": {},
   "outputs": [
    {
     "name": "stdout",
     "output_type": "stream",
     "text": [
      "----Choose from the list----\n",
      "0) Stop the Simulation\n",
      "1) Creating a File\n",
      "2) Deleting a File\n",
      "3) Calculate Fragmentation\n",
      "\n",
      "Enter your Choice: 3\n",
      "No. of Fragmented blocks are: 1024\n",
      "Enter your Choice: 1\n",
      "Enter file name with its extention: f1.txt\n",
      "Enter size of file in MB: 56\n",
      "The file has been sucessfully added.\n",
      "Enter your Choice: 3\n",
      "No. of Fragmented blocks are: 968\n",
      "Enter your Choice: 0\n"
     ]
    }
   ],
   "source": [
    "disk = [None] * 1024 # 1024 blocks in the disk\n",
    "total_blocks = len(disk)\n",
    "used_blocks = 0\n",
    "\n",
    "def add_file(name, size):\n",
    "    global used_blocks\n",
    "    free_blocks = []\n",
    "    for i in range(total_blocks):\n",
    "        if disk[i] == None:\n",
    "            free_blocks.append(i)\n",
    "            if len(free_blocks) == size:\n",
    "                for j in free_blocks:\n",
    "                    disk[j] = name\n",
    "                used_blocks += size\n",
    "                return True\n",
    "        else:\n",
    "            free_blocks = []\n",
    "    return False\n",
    "\n",
    "def delete_file(name):\n",
    "    flg = False\n",
    "    global used_blocks\n",
    "    for i in range(total_blocks):\n",
    "        if disk[i] == name:\n",
    "            flg = True\n",
    "            disk[i] = None\n",
    "            used_blocks -= 1\n",
    "    return flg\n",
    "\n",
    "def calculate_fragmentation():\n",
    "    free_blocks = 0\n",
    "    for i in range(total_blocks):\n",
    "        if disk[i] == None:\n",
    "            free_blocks += 1\n",
    "    return free_blocks\n",
    "\n",
    "time = -1\n",
    "print(\"----Choose from the list----\")\n",
    "print(\"0) Stop the Simulation\\n1) Creating a File\\n2) Deleting a File\\n3) Calculate Fragmentation\\n\")\n",
    "while(time!=0):\n",
    "    time = int(input(\"Enter your Choice: \"))\n",
    "    if(time==1):\n",
    "        name = input(\"Enter file name with its extention: \")\n",
    "        size = int(input(\"Enter size of file in MB: \"))\n",
    "        if add_file(name,size):\n",
    "            print(\"The file has been sucessfully added.\")\n",
    "        else:\n",
    "            print(\"The file has not been added cause of insufficient space.\")\n",
    "    elif(time==2):\n",
    "        name = input(\"Enter name of file to be removed with extention: \")\n",
    "        if delete_file(name):\n",
    "            print(\"The file has been sucessfully removed.\")\n",
    "        else:\n",
    "            print(\"File doesn't exist.\")\n",
    "    elif(time==3):\n",
    "        print(\"No. of Fragmented blocks are: {}\".format(calculate_fragmentation()))"
   ]
  },
  {
   "cell_type": "code",
   "execution_count": null,
   "id": "df9ad9bd",
   "metadata": {},
   "outputs": [],
   "source": []
  }
 ],
 "metadata": {
  "kernelspec": {
   "display_name": "Python 3 (ipykernel)",
   "language": "python",
   "name": "python3"
  },
  "language_info": {
   "codemirror_mode": {
    "name": "ipython",
    "version": 3
   },
   "file_extension": ".py",
   "mimetype": "text/x-python",
   "name": "python",
   "nbconvert_exporter": "python",
   "pygments_lexer": "ipython3",
   "version": "3.10.10"
  }
 },
 "nbformat": 4,
 "nbformat_minor": 5
}
